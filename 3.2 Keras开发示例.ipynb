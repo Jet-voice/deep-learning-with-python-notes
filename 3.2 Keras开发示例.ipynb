{
 "cells": [
  {
   "cell_type": "markdown",
   "metadata": {},
   "source": [
    "## 1  典型的工作流程\n",
    "\n",
    "https://keras.io/zh/getting-started/sequential-model-guide/\n",
    "\n",
    "### （1） 准备数据\n",
    "### （2）定义模型\n",
    "定义从输入到输出的各层网络。\n",
    "\n",
    "有两种方法：\n",
    "- 第1种： 使用Sequential类，仅用于层的线性堆叠，比较常用 ，直接 model = models.Sequential()\n",
    "- 第2种： 函数式API，用于层组成的有向无环图，可以构建任意形式的网络\n",
    "\n",
    "### （3）配置优化器、损失函数和指标\n",
    "选择损失函数、优化器和要监控的指标\n",
    "\n",
    "### （4）训练模型\n",
    "\n",
    "### （5）评估优化\n",
    "\n",
    "### （6）预测"
   ]
  },
  {
   "cell_type": "markdown",
   "metadata": {},
   "source": [
    "## 2 示例"
   ]
  },
  {
   "cell_type": "markdown",
   "metadata": {},
   "source": [
    "### 2.1 准备数据"
   ]
  },
  {
   "cell_type": "code",
   "execution_count": 1,
   "metadata": {},
   "outputs": [
    {
     "name": "stderr",
     "output_type": "stream",
     "text": [
      "Using TensorFlow backend.\n"
     ]
    }
   ],
   "source": [
    "# 1 准备数据\n",
    "from keras.datasets import mnist\n",
    "from keras.utils import to_categorical\n",
    "\n",
    "(train_images, train_labels), (test_images, test_labels) = mnist.load_data()\n",
    "\n",
    "train_images = train_images.reshape((60000, 28 * 28))\n",
    "train_images = train_images.astype('float32') / 255\n",
    "\n",
    "test_images = test_images.reshape((10000, 28 * 28))\n",
    "test_images = test_images.astype('float32') / 255\n",
    "\n",
    "train_labels = to_categorical(train_labels)\n",
    "test_labels = to_categorical(test_labels)\n",
    "\n",
    "# 训练集、验证集和测试集, 从训练集种取出10000个样本作为验证集\n",
    "x_train = train_images[:50000]\n",
    "y_train = train_labels[:50000]\n",
    "\n",
    "x_validation = train_images[50000:]\n",
    "y_validation = train_labels[50000:]\n",
    "\n",
    "x_test = test_images\n",
    "y_test = test_labels"
   ]
  },
  {
   "cell_type": "markdown",
   "metadata": {},
   "source": [
    "### 2.2 定义模型"
   ]
  },
  {
   "cell_type": "code",
   "execution_count": 2,
   "metadata": {},
   "outputs": [
    {
     "name": "stdout",
     "output_type": "stream",
     "text": [
      "WARNING:tensorflow:From /home/fc/anaconda3/lib/python3.6/site-packages/tensorflow/python/framework/op_def_library.py:263: colocate_with (from tensorflow.python.framework.ops) is deprecated and will be removed in a future version.\n",
      "Instructions for updating:\n",
      "Colocations handled automatically by placer.\n"
     ]
    }
   ],
   "source": [
    "# 2 定义模型\n",
    "from keras import models\n",
    "from keras import layers\n",
    "\n",
    "model = models.Sequential()\n",
    "model.add(layers.Dense(512, activation='relu', input_shape=(28 * 28,)))\n",
    "model.add(layers.Dense(10, activation='softmax'))"
   ]
  },
  {
   "cell_type": "markdown",
   "metadata": {},
   "source": [
    "### 2.3 配置优化器、损失函数和指标"
   ]
  },
  {
   "cell_type": "code",
   "execution_count": 3,
   "metadata": {
    "collapsed": true
   },
   "outputs": [],
   "source": [
    "# 3 配置优化器、损失函数和指标\n",
    "model.compile(optimizer='rmsprop',\n",
    "                loss='categorical_crossentropy',\n",
    "                metrics=['accuracy'])"
   ]
  },
  {
   "cell_type": "markdown",
   "metadata": {},
   "source": [
    "### 2.4 训练"
   ]
  },
  {
   "cell_type": "code",
   "execution_count": 4,
   "metadata": {},
   "outputs": [
    {
     "name": "stdout",
     "output_type": "stream",
     "text": [
      "WARNING:tensorflow:From /home/fc/anaconda3/lib/python3.6/site-packages/tensorflow/python/ops/math_ops.py:3066: to_int32 (from tensorflow.python.ops.math_ops) is deprecated and will be removed in a future version.\n",
      "Instructions for updating:\n",
      "Use tf.cast instead.\n",
      "Train on 50000 samples, validate on 10000 samples\n",
      "Epoch 1/5\n",
      "50000/50000 [==============================] - 4s 79us/step - loss: 0.2799 - acc: 0.9202 - val_loss: 0.1773 - val_acc: 0.9466\n",
      "Epoch 2/5\n",
      "50000/50000 [==============================] - 4s 79us/step - loss: 0.1163 - acc: 0.9654 - val_loss: 0.1019 - val_acc: 0.9680\n",
      "Epoch 3/5\n",
      "50000/50000 [==============================] - 4s 81us/step - loss: 0.0755 - acc: 0.9780 - val_loss: 0.0777 - val_acc: 0.9770\n",
      "Epoch 4/5\n",
      "50000/50000 [==============================] - 4s 77us/step - loss: 0.0546 - acc: 0.9837 - val_loss: 0.0913 - val_acc: 0.9728\n",
      "Epoch 5/5\n",
      "50000/50000 [==============================] - 4s 78us/step - loss: 0.0401 - acc: 0.9881 - val_loss: 0.0763 - val_acc: 0.9788\n"
     ]
    }
   ],
   "source": [
    "# 4 训练\n",
    "history = model.fit(x_train, \n",
    "                    y_train, \n",
    "                    epochs=5, \n",
    "                    batch_size=128,\n",
    "                    validation_data=(x_validation, y_validation))"
   ]
  },
  {
   "cell_type": "markdown",
   "metadata": {},
   "source": [
    "### 2.5 模型优化"
   ]
  },
  {
   "cell_type": "code",
   "execution_count": 5,
   "metadata": {},
   "outputs": [
    {
     "data": {
      "image/png": "[encoded data removed]",
      "text/plain": [
       "<matplotlib.figure.Figure at 0x7f2d773685c0>"
      ]
     },
     "metadata": {},
     "output_type": "display_data"
    },
    {
     "data": {
      "image/png": "[encoded data removed]",
      "text/plain": [
       "<matplotlib.figure.Figure at 0x7f2d3003f2b0>"
      ]
     },
     "metadata": {},
     "output_type": "display_data"
    }
   ],
   "source": [
    "history_dict = history.history\n",
    "\n",
    "#绘制训练损失和验证损失\n",
    "import matplotlib.pyplot as plt\n",
    "%matplotlib inline \n",
    "history_dict = history.history\n",
    "loss_values = history_dict['loss']\n",
    "val_loss_values = history_dict['val_loss']\n",
    "epochs = range(1, len(loss_values) + 1)\n",
    "plt.plot(epochs, loss_values, 'bo', label='Training loss')\n",
    "plt.plot(epochs, val_loss_values, 'b', label='Validation loss')\n",
    "plt.title('Training and validation loss')\n",
    "plt.xlabel('Epochs')\n",
    "plt.ylabel('Loss')\n",
    "plt.legend()\n",
    "plt.show()\n",
    "\n",
    "# 绘制训练精度和验证精度\n",
    "plt.clf()\n",
    "acc = history_dict['acc']\n",
    "val_acc = history_dict['val_acc']\n",
    "plt.plot(epochs, acc, 'bo', label='Training acc')\n",
    "plt.plot(epochs, val_acc, 'b', label='Validation acc')\n",
    "plt.title('Training and validation accuracy')\n",
    "plt.xlabel('Epochs')\n",
    "plt.ylabel('Accuracy')\n",
    "plt.legend()\n",
    "plt.show()"
   ]
  },
  {
   "cell_type": "code",
   "execution_count": 6,
   "metadata": {},
   "outputs": [
    {
     "name": "stdout",
     "output_type": "stream",
     "text": [
      "10000/10000 [==============================] - 1s 53us/step\n",
      "test loss: 0.0693628858985\n",
      "test acc: 0.9791\n"
     ]
    }
   ],
   "source": [
    "# 在测试集验证\n",
    "test_loss, test_acc  = model.evaluate(test_images, test_labels)\n",
    "print(\"test loss:\",test_loss)\n",
    "print(\"test acc:\",test_acc)"
   ]
  },
  {
   "cell_type": "markdown",
   "metadata": {},
   "source": [
    "### 2.6 预测"
   ]
  },
  {
   "cell_type": "code",
   "execution_count": 7,
   "metadata": {},
   "outputs": [
    {
     "data": {
      "text/plain": [
       "array([[  3.06604209e-09,   1.97453254e-09,   5.11045073e-06, ...,\n",
       "          9.99958277e-01,   1.20521435e-07,   9.85504357e-07],\n",
       "       [  1.93256827e-10,   1.16661004e-05,   9.99988079e-01, ...,\n",
       "          3.22374175e-16,   1.38669423e-08,   3.13015605e-14],\n",
       "       [  1.74215927e-07,   9.99556482e-01,   2.07506819e-05, ...,\n",
       "          3.18640785e-04,   3.98132179e-05,   1.43102977e-06],\n",
       "       ..., \n",
       "       [  4.89149296e-14,   2.36226386e-11,   4.07471669e-12, ...,\n",
       "          4.36029410e-07,   4.81923728e-08,   4.02127762e-06],\n",
       "       [  9.54263335e-10,   3.65635924e-11,   2.58659983e-13, ...,\n",
       "          2.95677163e-11,   9.95369078e-07,   1.49606792e-12],\n",
       "       [  5.91065391e-11,   1.49390642e-14,   7.47550077e-11, ...,\n",
       "          2.02020195e-15,   3.22659174e-12,   2.31211019e-13]], dtype=float32)"
      ]
     },
     "execution_count": 7,
     "metadata": {},
     "output_type": "execute_result"
    }
   ],
   "source": [
    "model.predict(x_test)"
   ]
  }
 ],
 "metadata": {
  "kernelspec": {
   "display_name": "Python 3",
   "language": "python",
   "name": "python3"
  },
  "language_info": {
   "codemirror_mode": {
    "name": "ipython",
    "version": 3
   },
   "file_extension": ".py",
   "mimetype": "text/x-python",
   "name": "python",
   "nbconvert_exporter": "python",
   "pygments_lexer": "ipython3",
   "version": "3.6.3"
  }
 },
 "nbformat": 4,
 "nbformat_minor": 2
}
