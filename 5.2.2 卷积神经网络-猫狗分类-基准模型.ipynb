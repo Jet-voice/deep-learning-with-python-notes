{
 "cells": [
  {
   "cell_type": "markdown",
   "metadata": {},
   "source": [
    "先训练一个简单的卷积神经网络，不做任何正则化，后面将使用数据增强、特征提取、微调等处理来优化模型。"
   ]
  },
  {
   "cell_type": "code",
   "execution_count": 1,
   "metadata": {},
   "outputs": [
    {
     "name": "stderr",
     "output_type": "stream",
     "text": [
      "Using TensorFlow backend.\n"
     ]
    },
    {
     "name": "stdout",
     "output_type": "stream",
     "text": [
      "Found 2000 images belonging to 2 classes.\n",
      "Found 1000 images belonging to 2 classes.\n"
     ]
    }
   ],
   "source": [
    "# 数据预处理\n",
    "# 快速创建python生成器\n",
    "from keras.preprocessing.image import ImageDataGenerator\n",
    "\n",
    "train_dir = './data//cats_and_dogs_small/train'\n",
    "validation_dir = './data//cats_and_dogs_small/validation'\n",
    "\n",
    "train_datagen = ImageDataGenerator(rescale=1./255)   \n",
    "test_datagen = ImageDataGenerator(rescale=1./255) \n",
    "train_generator = train_datagen.flow_from_directory( \n",
    "        train_dir,   \n",
    "        target_size=(150, 150),   \n",
    "        batch_size=20, \n",
    "        class_mode='binary')   \n",
    "validation_generator = test_datagen.flow_from_directory(\n",
    "        validation_dir, \n",
    "        target_size=(150, 150), \n",
    "        batch_size=20, \n",
    "        class_mode='binary')"
   ]
  },
  {
   "cell_type": "code",
   "execution_count": 2,
   "metadata": {},
   "outputs": [
    {
     "name": "stdout",
     "output_type": "stream",
     "text": [
      "WARNING:tensorflow:From /home/fc/anaconda3/lib/python3.6/site-packages/tensorflow/python/framework/op_def_library.py:263: colocate_with (from tensorflow.python.framework.ops) is deprecated and will be removed in a future version.\n",
      "Instructions for updating:\n",
      "Colocations handled automatically by placer.\n"
     ]
    }
   ],
   "source": [
    "# 构建网络\n",
    "from keras import layers \n",
    "from keras import models \n",
    "model = models.Sequential() \n",
    "model.add(layers.Conv2D(32, (3, 3), activation='relu',\n",
    "                        input_shape=(150, 150, 3))) \n",
    "model.add(layers.MaxPooling2D((2, 2))) \n",
    "model.add(layers.Conv2D(64, (3, 3), activation='relu'))\n",
    "model.add(layers.MaxPooling2D((2, 2))) \n",
    "model.add(layers.Conv2D(128, (3, 3), activation='relu'))\n",
    "model.add(layers.MaxPooling2D((2, 2))) \n",
    "model.add(layers.Conv2D(128, (3, 3), activation='relu'))\n",
    "model.add(layers.MaxPooling2D((2, 2))) \n",
    "\n",
    "model.add(layers.Flatten()) \n",
    "model.add(layers.Dense(512, activation='relu')) \n",
    "model.add(layers.Dense(1, activation='sigmoid'))\n",
    "\n",
    "from keras import optimizers \n",
    "model.compile(loss='binary_crossentropy', \n",
    "              optimizer=optimizers.RMSprop(lr=1e-4), \n",
    "              metrics=['acc'])"
   ]
  },
  {
   "cell_type": "code",
   "execution_count": 3,
   "metadata": {},
   "outputs": [
    {
     "name": "stdout",
     "output_type": "stream",
     "text": [
      "WARNING:tensorflow:From /home/fc/anaconda3/lib/python3.6/site-packages/tensorflow/python/ops/math_ops.py:3066: to_int32 (from tensorflow.python.ops.math_ops) is deprecated and will be removed in a future version.\n",
      "Instructions for updating:\n",
      "Use tf.cast instead.\n",
      "Epoch 1/30\n",
      "100/100 [==============================] - 132s 1s/step - loss: 0.6851 - acc: 0.5455 - val_loss: 0.6722 - val_acc: 0.5750\n",
      "Epoch 2/30\n",
      "100/100 [==============================] - 115s 1s/step - loss: 0.6438 - acc: 0.6260 - val_loss: 0.6216 - val_acc: 0.6600\n",
      "Epoch 3/30\n",
      "100/100 [==============================] - 121s 1s/step - loss: 0.5925 - acc: 0.6860 - val_loss: 0.6029 - val_acc: 0.6620\n",
      "Epoch 4/30\n",
      "100/100 [==============================] - 116s 1s/step - loss: 0.5528 - acc: 0.7155 - val_loss: 0.5983 - val_acc: 0.6710\n",
      "Epoch 5/30\n",
      "100/100 [==============================] - 119s 1s/step - loss: 0.5264 - acc: 0.7275 - val_loss: 0.5765 - val_acc: 0.6950\n",
      "Epoch 6/30\n",
      "100/100 [==============================] - 117s 1s/step - loss: 0.5016 - acc: 0.7505 - val_loss: 0.5717 - val_acc: 0.6960\n",
      "Epoch 7/30\n",
      "100/100 [==============================] - 115s 1s/step - loss: 0.4748 - acc: 0.7675 - val_loss: 0.5674 - val_acc: 0.7050\n",
      "Epoch 8/30\n",
      "100/100 [==============================] - 115s 1s/step - loss: 0.4551 - acc: 0.7835 - val_loss: 0.5808 - val_acc: 0.7110\n",
      "Epoch 9/30\n",
      "100/100 [==============================] - 116s 1s/step - loss: 0.4362 - acc: 0.7990 - val_loss: 0.5615 - val_acc: 0.7140\n",
      "Epoch 10/30\n",
      "100/100 [==============================] - 112s 1s/step - loss: 0.4032 - acc: 0.8110 - val_loss: 0.5546 - val_acc: 0.7340\n",
      "Epoch 11/30\n",
      "100/100 [==============================] - 115s 1s/step - loss: 0.3769 - acc: 0.8365 - val_loss: 0.5451 - val_acc: 0.7340\n",
      "Epoch 12/30\n",
      "100/100 [==============================] - 113s 1s/step - loss: 0.3543 - acc: 0.8470 - val_loss: 0.5511 - val_acc: 0.7310\n",
      "Epoch 13/30\n",
      "100/100 [==============================] - 115s 1s/step - loss: 0.3241 - acc: 0.8610 - val_loss: 0.5670 - val_acc: 0.7330\n",
      "Epoch 14/30\n",
      "100/100 [==============================] - 117s 1s/step - loss: 0.3064 - acc: 0.8645 - val_loss: 0.5860 - val_acc: 0.7210\n",
      "Epoch 15/30\n",
      "100/100 [==============================] - 118s 1s/step - loss: 0.2852 - acc: 0.8805 - val_loss: 0.6275 - val_acc: 0.7190\n",
      "Epoch 16/30\n",
      "100/100 [==============================] - 123s 1s/step - loss: 0.2656 - acc: 0.8950 - val_loss: 0.6059 - val_acc: 0.7260\n",
      "Epoch 17/30\n",
      "100/100 [==============================] - 202s 2s/step - loss: 0.2369 - acc: 0.9115 - val_loss: 0.6493 - val_acc: 0.7200\n",
      "Epoch 18/30\n",
      "100/100 [==============================] - 219s 2s/step - loss: 0.2185 - acc: 0.9175 - val_loss: 0.6477 - val_acc: 0.7340\n",
      "Epoch 19/30\n",
      "100/100 [==============================] - 219s 2s/step - loss: 0.2006 - acc: 0.9230 - val_loss: 0.6419 - val_acc: 0.7310\n",
      "Epoch 20/30\n",
      "100/100 [==============================] - 216s 2s/step - loss: 0.1817 - acc: 0.9375 - val_loss: 0.7255 - val_acc: 0.7260\n",
      "Epoch 21/30\n",
      "100/100 [==============================] - 221s 2s/step - loss: 0.1595 - acc: 0.9420 - val_loss: 0.7021 - val_acc: 0.7240\n",
      "Epoch 22/30\n",
      "100/100 [==============================] - 223s 2s/step - loss: 0.1399 - acc: 0.9520 - val_loss: 0.8675 - val_acc: 0.7270\n",
      "Epoch 23/30\n",
      "100/100 [==============================] - 219s 2s/step - loss: 0.1242 - acc: 0.9560 - val_loss: 0.7459 - val_acc: 0.7380\n",
      "Epoch 24/30\n",
      "100/100 [==============================] - 210s 2s/step - loss: 0.1188 - acc: 0.9610 - val_loss: 0.8311 - val_acc: 0.7220\n",
      "Epoch 25/30\n",
      "100/100 [==============================] - 119s 1s/step - loss: 0.0977 - acc: 0.9655 - val_loss: 0.8335 - val_acc: 0.7260\n",
      "Epoch 26/30\n",
      "100/100 [==============================] - 116s 1s/step - loss: 0.0847 - acc: 0.9710 - val_loss: 0.9379 - val_acc: 0.7300\n",
      "Epoch 27/30\n",
      "100/100 [==============================] - 120s 1s/step - loss: 0.0713 - acc: 0.9800 - val_loss: 0.8462 - val_acc: 0.7400\n",
      "Epoch 28/30\n",
      "100/100 [==============================] - 119s 1s/step - loss: 0.0590 - acc: 0.9840 - val_loss: 0.9297 - val_acc: 0.7310\n",
      "Epoch 29/30\n",
      "100/100 [==============================] - 120s 1s/step - loss: 0.0539 - acc: 0.9855 - val_loss: 1.0150 - val_acc: 0.7200\n",
      "Epoch 30/30\n",
      "100/100 [==============================] - 119s 1s/step - loss: 0.0463 - acc: 0.9845 - val_loss: 1.0876 - val_acc: 0.7230\n"
     ]
    }
   ],
   "source": [
    "#利用批量生成器训练模型\n",
    "history = model.fit_generator( \n",
    "      train_generator, \n",
    "      steps_per_epoch=100, \n",
    "      epochs=30, \n",
    "      validation_data=validation_generator, \n",
    "      validation_steps=50)"
   ]
  },
  {
   "cell_type": "code",
   "execution_count": 4,
   "metadata": {
    "collapsed": true
   },
   "outputs": [],
   "source": [
    "#保存模型\n",
    "model.save('cats_and_dogs_small_1.h5')"
   ]
  },
  {
   "cell_type": "code",
   "execution_count": 5,
   "metadata": {},
   "outputs": [
    {
     "data": {
      "image/png": "[encoded data removed]",
      "text/plain": [
       "<matplotlib.figure.Figure at 0x7f58840ead30>"
      ]
     },
     "metadata": {},
     "output_type": "display_data"
    },
    {
     "data": {
      "image/png": "[encoded data removed]",
      "text/plain": [
       "<matplotlib.figure.Figure at 0x7f58808b4358>"
      ]
     },
     "metadata": {},
     "output_type": "display_data"
    }
   ],
   "source": [
    "# 绘制训练过程中的损失曲线和精度曲线\n",
    "import matplotlib.pyplot as plt \n",
    "%matplotlib inline\n",
    "\n",
    "acc = history.history['acc'] \n",
    "val_acc = history.history['val_acc'] \n",
    "loss = history.history['loss'] \n",
    "val_loss = history.history['val_loss'] \n",
    "\n",
    "epochs = range(1, len(acc) + 1) \n",
    "\n",
    "plt.plot(epochs, acc, 'bo', label='Training acc') \n",
    "plt.plot(epochs, val_acc, 'b', label='Validation acc')\n",
    "plt.title('Training and validation accuracy') \n",
    "plt.legend() \n",
    "\n",
    "plt.figure() \n",
    "\n",
    "plt.plot(epochs, loss, 'bo', label='Training loss') \n",
    "plt.plot(epochs, val_loss, 'b', label='Validation loss')\n",
    "plt.title('Training and validation loss') \n",
    "plt.legend() \n",
    "\n",
    "plt.show()"
   ]
  }
 ],
 "metadata": {
  "kernelspec": {
   "display_name": "Python 3",
   "language": "python",
   "name": "python3"
  },
  "language_info": {
   "codemirror_mode": {
    "name": "ipython",
    "version": 3
   },
   "file_extension": ".py",
   "mimetype": "text/x-python",
   "name": "python",
   "nbconvert_exporter": "python",
   "pygments_lexer": "ipython3",
   "version": "3.6.3"
  }
 },
 "nbformat": 4,
 "nbformat_minor": 2
}
