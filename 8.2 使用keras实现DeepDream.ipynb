{
 "cells": [
  {
   "cell_type": "code",
   "execution_count": 1,
   "metadata": {},
   "outputs": [
    {
     "name": "stderr",
     "output_type": "stream",
     "text": [
      "Using TensorFlow backend.\n"
     ]
    },
    {
     "name": "stdout",
     "output_type": "stream",
     "text": [
      "WARNING:tensorflow:From /home/fc/anaconda3/lib/python3.6/site-packages/tensorflow/python/framework/op_def_library.py:263: colocate_with (from tensorflow.python.framework.ops) is deprecated and will be removed in a future version.\n",
      "Instructions for updating:\n",
      "Colocations handled automatically by placer.\n"
     ]
    }
   ],
   "source": [
    "# 加载预训练的 Inception V3 模型\n",
    "from keras.applications import inception_v3\n",
    "from keras import backend as K\n",
    "K.set_learning_phase(0)\n",
    "model = inception_v3.InceptionV3(weights='imagenet',\n",
    "                                 include_top=False)"
   ]
  },
  {
   "cell_type": "code",
   "execution_count": 2,
   "metadata": {
    "collapsed": true
   },
   "outputs": [],
   "source": [
    "# 设置 DeepDream 配置\n",
    "layer_contributions = {\n",
    " 'mixed2': 0.2,\n",
    " 'mixed3': 3.,\n",
    " 'mixed4': 2.,\n",
    " 'mixed5': 1.5,\n",
    "}"
   ]
  },
  {
   "cell_type": "code",
   "execution_count": 3,
   "metadata": {},
   "outputs": [
    {
     "name": "stdout",
     "output_type": "stream",
     "text": [
      "WARNING:tensorflow:Variable += will be deprecated. Use variable.assign_add if you want assignment to the variable value or 'x = x + y' if you want a new python Tensor object.\n"
     ]
    }
   ],
   "source": [
    "# 定义需要最大化的损失\n",
    "layer_dict = dict([(layer.name, layer) for layer in model.layers])\n",
    "loss = K.variable(0.)\n",
    "for layer_name in layer_contributions:\n",
    "    coeff = layer_contributions[layer_name]\n",
    "    activation = layer_dict[layer_name].output\n",
    "    scaling = K.prod(K.cast(K.shape(activation), 'float32'))\n",
    "    loss += coeff * K.sum(K.square(activation[:, 2: -2, 2: -2, :])) / scaling "
   ]
  },
  {
   "cell_type": "code",
   "execution_count": 4,
   "metadata": {
    "collapsed": true
   },
   "outputs": [],
   "source": [
    "# 　梯度上升过程\n",
    "dream = model.input\n",
    "grads = K.gradients(loss, dream)[0]\n",
    "grads /= K.maximum(K.mean(K.abs(grads)), 1e-7)\n",
    "outputs = [loss, grads]\n",
    "fetch_loss_and_grads = K.function([dream], outputs)\n",
    "\n",
    "def eval_loss_and_grads(x):\n",
    "    outs = fetch_loss_and_grads([x])\n",
    "    loss_value = outs[0]\n",
    "    grad_values = outs[1]\n",
    "    return loss_value, grad_values\n",
    "\n",
    "def gradient_ascent(x, iterations, step, max_loss=None):\n",
    "    for i in range(iterations):\n",
    "        loss_value, grad_values = eval_loss_and_grads(x)\n",
    "        if max_loss is not None and loss_value > max_loss:\n",
    "            break\n",
    "        print('...Loss value at', i, ':', loss_value)\n",
    "        x += step * grad_values\n",
    "    return x"
   ]
  },
  {
   "cell_type": "code",
   "execution_count": 8,
   "metadata": {
    "collapsed": true
   },
   "outputs": [],
   "source": [
    "# 　辅助函数\n",
    "import scipy\n",
    "from keras.preprocessing import image\n",
    "def resize_img(img, size):\n",
    "    img = np.copy(img)\n",
    "    factors = (1,\n",
    "    float(size[0]) / img.shape[1],\n",
    "    float(size[1]) / img.shape[2],\n",
    "    1)\n",
    "    return scipy.ndimage.zoom(img, factors, order=1)\n",
    "\n",
    "def save_img(img, fname):\n",
    "    pil_img = deprocess_image(np.copy(img))\n",
    "    scipy.misc.imsave(fname, pil_img)\n",
    "\n",
    "def preprocess_image(image_path):\n",
    "    img = image.load_img(image_path)\n",
    "    img = image.img_to_array(img)\n",
    "    img = np.expand_dims(img, axis=0)\n",
    "    img = inception_v3.preprocess_input(img)\n",
    "    return img\n",
    "\n",
    "def deprocess_image(x):\n",
    "    if K.image_data_format() == 'channels_first':\n",
    "        x = x.reshape((3, x.shape[2], x.shape[3]))\n",
    "        x = x.transpose((1, 2, 0))\n",
    "    else:\n",
    "        x = x.reshape((x.shape[1], x.shape[2], 3))\n",
    "    x /= 2.\n",
    "    x += 0.5\n",
    "    x *= 255.\n",
    "    x = np.clip(x, 0, 255).astype('uint8')\n",
    "    return x"
   ]
  },
  {
   "cell_type": "code",
   "execution_count": 11,
   "metadata": {},
   "outputs": [
    {
     "name": "stdout",
     "output_type": "stream",
     "text": [
      "Processing image shape (289, 457)\n",
      "...Loss value at 0 : 1.40272\n",
      "...Loss value at 1 : 1.76092\n",
      "...Loss value at 2 : 2.37782\n",
      "...Loss value at 3 : 3.01308\n",
      "...Loss value at 4 : 3.66863\n",
      "...Loss value at 5 : 4.34305\n",
      "...Loss value at 6 : 4.99987\n",
      "...Loss value at 7 : 5.6662\n",
      "...Loss value at 8 : 6.32598\n",
      "...Loss value at 9 : 6.91882\n",
      "...Loss value at 10 : 7.50581\n",
      "...Loss value at 11 : 8.10017\n",
      "...Loss value at 12 : 8.63639\n",
      "...Loss value at 13 : 9.22493\n",
      "...Loss value at 14 : 9.7541\n",
      "Processing image shape (405, 640)\n",
      "...Loss value at 0 : 2.87091\n",
      "...Loss value at 1 : 4.17005\n",
      "...Loss value at 2 : 5.27418\n",
      "...Loss value at 3 : 6.20994\n",
      "...Loss value at 4 : 7.13205\n",
      "...Loss value at 5 : 7.94486\n",
      "...Loss value at 6 : 8.74563\n",
      "...Loss value at 7 : 9.48478\n",
      "Processing image shape (206, 326)\n",
      "...Loss value at 0 : 1.71598\n",
      "...Loss value at 1 : 2.79418\n",
      "...Loss value at 2 : 3.73196\n",
      "...Loss value at 3 : 4.53149\n",
      "...Loss value at 4 : 5.24889\n",
      "...Loss value at 5 : 5.92739\n",
      "...Loss value at 6 : 6.53928\n",
      "...Loss value at 7 : 7.22309\n",
      "...Loss value at 8 : 7.78163\n",
      "...Loss value at 9 : 8.34453\n",
      "...Loss value at 10 : 8.85907\n",
      "...Loss value at 11 : 9.38478\n",
      "...Loss value at 12 : 9.85406\n",
      "Processing image shape (405, 640)\n",
      "...Loss value at 0 : 2.77157\n",
      "...Loss value at 1 : 4.12253\n",
      "...Loss value at 2 : 5.41678\n",
      "...Loss value at 3 : 6.64501\n",
      "...Loss value at 4 : 7.72508\n",
      "...Loss value at 5 : 8.73703\n",
      "...Loss value at 6 : 9.64918\n",
      "Processing image shape (289, 457)\n",
      "...Loss value at 0 : 6.45023\n",
      "...Loss value at 1 : 8.87615\n"
     ]
    }
   ],
   "source": [
    "# 在多个连续尺度上运行梯度上升\n",
    "import numpy as np\n",
    "step = 0.01\n",
    "num_octave = 3\n",
    "octave_scale = 1.4\n",
    "iterations = 20\n",
    "max_loss = 10.\n",
    "base_image_path = '/home/fc/Downloads/fengjing.jpg'\n",
    "img = preprocess_image(base_image_path)\n",
    "original_shape = img.shape[1:3]\n",
    "successive_shapes = [original_shape]\n",
    "\n",
    "for i in range(1, num_octave):\n",
    "    shape = tuple([int(dim / (octave_scale ** i))\n",
    "        for dim in original_shape])\n",
    "    successive_shapes.append(shape)\n",
    "    successive_shapes = successive_shapes[::-1]\n",
    "    original_img = np.copy(img)\n",
    "    shrunk_original_img = resize_img(img, successive_shapes[0])\n",
    "    for shape in successive_shapes:\n",
    "        print('Processing image shape', shape)\n",
    "        img = resize_img(img, shape)\n",
    "        img = gradient_ascent(img,\n",
    "                              iterations=iterations,\n",
    "                              step=step,\n",
    "                              max_loss=max_loss)\n",
    "        upscaled_shrunk_original_img = resize_img(shrunk_original_img, shape)\n",
    "        same_size_original = resize_img(original_img, shape)\n",
    "        lost_detail = same_size_original - upscaled_shrunk_original_img\n",
    "        img += lost_detail\n",
    "        shrunk_original_img = resize_img(original_img, shape)\n",
    "        save_img(img, fname='dream_at_scale_' + str(shape) + '.png')\n",
    "    save_img(img, fname='final_dream.png')"
   ]
  },
  {
   "cell_type": "code",
   "execution_count": null,
   "metadata": {
    "collapsed": true
   },
   "outputs": [],
   "source": []
  }
 ],
 "metadata": {
  "kernelspec": {
   "display_name": "Python 3",
   "language": "python",
   "name": "python3"
  },
  "language_info": {
   "codemirror_mode": {
    "name": "ipython",
    "version": 3
   },
   "file_extension": ".py",
   "mimetype": "text/x-python",
   "name": "python",
   "nbconvert_exporter": "python",
   "pygments_lexer": "ipython3",
   "version": "3.6.3"
  }
 },
 "nbformat": 4,
 "nbformat_minor": 2
}
